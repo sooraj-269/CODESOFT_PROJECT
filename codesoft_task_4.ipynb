{
  "nbformat": 4,
  "nbformat_minor": 0,
  "metadata": {
    "colab": {
      "provenance": [],
      "authorship_tag": "ABX9TyNLEqtCFE47BQF7oayrnZIy",
      "include_colab_link": true
    },
    "kernelspec": {
      "name": "python3",
      "display_name": "Python 3"
    },
    "language_info": {
      "name": "python"
    }
  },
  "cells": [
    {
      "cell_type": "markdown",
      "metadata": {
        "id": "view-in-github",
        "colab_type": "text"
      },
      "source": [
        "<a href=\"https://colab.research.google.com/github/sooraj-269/Portfolio-Website-main-1.59.01-PM/blob/main/codesoft_task_4.ipynb\" target=\"_parent\"><img src=\"https://colab.research.google.com/assets/colab-badge.svg\" alt=\"Open In Colab\"/></a>"
      ]
    },
    {
      "cell_type": "code",
      "execution_count": null,
      "metadata": {
        "colab": {
          "base_uri": "https://localhost:8080/"
        },
        "id": "KJUzp1ktMZPo",
        "outputId": "55f1e91c-e98c-4a1d-d41e-afc56d229094"
      },
      "outputs": [
        {
          "output_type": "stream",
          "name": "stdout",
          "text": [
            "Rock-Paper-Scissors Game\n",
            "-------------------------\n",
            "Enter your choice (rock, paper, or scissors): rock\n",
            "\n",
            "You chose: rock\n",
            "Computer chose: rock\n",
            "It's a tie!\n",
            "\n",
            "Score: You 0 - 0 Computer\n",
            "\n",
            "Do you want to play again? (yes/no): yes\n",
            "Enter your choice (rock, paper, or scissors): paper\n",
            "\n",
            "You chose: paper\n",
            "Computer chose: scissors\n",
            "You lose!\n",
            "\n",
            "Score: You 0 - 1 Computer\n"
          ]
        }
      ],
      "source": [
        "# rock_paper_scissors.py\n",
        "\n",
        "import random\n",
        "\n",
        "def get_computer_choice():\n",
        "    choices = ['rock', 'paper', 'scissors']\n",
        "    return random.choice(choices)\n",
        "\n",
        "def get_user_choice():\n",
        "    while True:\n",
        "        choice = input(\"Enter your choice (rock, paper, or scissors): \").lower()\n",
        "        if choice in ['rock', 'paper', 'scissors']:\n",
        "            return choice\n",
        "        else:\n",
        "            print(\"Invalid choice. Please try again.\")\n",
        "\n",
        "def determine_winner(user_choice, computer_choice):\n",
        "    if user_choice == computer_choice:\n",
        "        return \"It's a tie!\"\n",
        "    elif (user_choice == 'rock' and computer_choice == 'scissors') or \\\n",
        "         (user_choice == 'scissors' and computer_choice == 'paper') or \\\n",
        "         (user_choice == 'paper' and computer_choice == 'rock'):\n",
        "        return \"You win!\"\n",
        "    else:\n",
        "        return \"You lose!\"\n",
        "\n",
        "def main():\n",
        "    print(\"Rock-Paper-Scissors Game\")\n",
        "    print(\"-------------------------\")\n",
        "\n",
        "    user_score = 0\n",
        "    computer_score = 0\n",
        "\n",
        "    while True:\n",
        "        user_choice = get_user_choice()\n",
        "        computer_choice = get_computer_choice()\n",
        "\n",
        "        print(f\"\\nYou chose: {user_choice}\")\n",
        "        print(f\"Computer chose: {computer_choice}\")\n",
        "\n",
        "        result = determine_winner(user_choice, computer_choice)\n",
        "        print(result)\n",
        "\n",
        "        if result == \"You win!\":\n",
        "            user_score += 1\n",
        "        elif result == \"You lose!\":\n",
        "            computer_score += 1\n",
        "\n",
        "        print(f\"\\nScore: You {user_score} - {computer_score} Computer\")\n",
        "\n",
        "        play_again = input(\"\\nDo you want to play again? (yes/no): \").lower()\n",
        "        if play_again != 'yes':\n",
        "            break\n",
        "\n",
        "    print(\"Thanks for playing!\")\n",
        "\n",
        "if __name__ == \"__main__\":\n",
        "    main()\n"
      ]
    }
  ]
}